{
  "nbformat": 4,
  "nbformat_minor": 0,
  "metadata": {
    "colab": {
      "provenance": [],
      "authorship_tag": "ABX9TyNV2EH5LOQkya+cIB0MSvzP",
      "include_colab_link": true
    },
    "kernelspec": {
      "name": "python3",
      "display_name": "Python 3"
    },
    "language_info": {
      "name": "python"
    }
  },
  "cells": [
    {
      "cell_type": "markdown",
      "metadata": {
        "id": "view-in-github",
        "colab_type": "text"
      },
      "source": [
        "<a href=\"https://colab.research.google.com/github/daniel-usp/LIT/blob/master/Fundamentos_Python_LIT.ipynb\" target=\"_parent\"><img src=\"https://colab.research.google.com/assets/colab-badge.svg\" alt=\"Open In Colab\"/></a>"
      ]
    },
    {
      "cell_type": "markdown",
      "source": [
        "# Como utilizar o ChatGPT para Programar em Python 🚀\n",
        "\n",
        "Olá, participantes da Aula On-Line do LIT! Bem-vindos ao nosso workshop sobre **Programação em Python com ChatGPT**. Neste notebook, vamos trabalhar com fundamentos de Python com ChatGPT.\n",
        "\n",
        "## Agenda da Aula\n",
        "\n",
        "1. **Introdução ao ChatGPT**\n",
        "   - O que é ChatGPT?\n",
        "   - Como o ChatGPT pode ajudar na programação?\n",
        "\n",
        "2. **Configurando o Ambiente**\n",
        "   - Ferramentas necessárias\n",
        "   - Preparação do ambiente de programação\n",
        "\n",
        "3. **Fundamentos de Python com ChatGPT**\n",
        "   - Variáveis e Tipos de Dados\n",
        "   - Estruturas de Controle\n",
        "   - Funções e Módulos\n",
        "   - Manipulação de Dados\n",
        "\n",
        "4. **Exemplos Práticos**\n",
        "   - Resolvendo problemas comuns com a ajuda do ChatGPT\n",
        "   - Dicas de como interagir com ChatGPT para obter melhores resultados\n",
        "\n",
        "5. **Exercícios Interativos**\n",
        "   - Exercícios práticos guiados pelo ChatGPT\n",
        "   - Discussão e revisão das soluções\n",
        "\n",
        "6. **Conclusão e Próximos Passos**\n",
        "   - Como continuar aprendendo\n",
        "   - Recursos adicionais\n",
        "\n"
      ],
      "metadata": {
        "id": "BOy8pchrXbJ_"
      }
    },
    {
      "cell_type": "markdown",
      "source": [
        "###Fundamentos"
      ],
      "metadata": {
        "id": "UG3bsbORT_as"
      }
    },
    {
      "cell_type": "code",
      "execution_count": null,
      "metadata": {
        "colab": {
          "base_uri": "https://localhost:8080/"
        },
        "id": "Eny5pQ-NTr7m",
        "outputId": "25d0a885-cbbb-4062-a3f1-c06d078c43d6"
      },
      "outputs": [
        {
          "output_type": "execute_result",
          "data": {
            "text/plain": [
              "4"
            ]
          },
          "metadata": {},
          "execution_count": 1
        }
      ],
      "source": [
        "2+2"
      ]
    },
    {
      "cell_type": "code",
      "metadata": {
        "id": "XybiIX36yqTn",
        "colab": {
          "base_uri": "https://localhost:8080/"
        },
        "outputId": "13d1205a-2c38-48ab-bbb9-a96fccf8b0e3"
      },
      "source": [
        "valor = 100000\n",
        "conta1 = (2*valor)\n",
        "print(\"O valor da conta é \", conta1)"
      ],
      "execution_count": null,
      "outputs": [
        {
          "output_type": "stream",
          "name": "stdout",
          "text": [
            "O valor da conta é  200000\n"
          ]
        }
      ]
    },
    {
      "cell_type": "code",
      "metadata": {
        "id": "5WzWGeJ7bdR2"
      },
      "source": [
        "#Dado um Volume de Vendas. Verificar se ela se encontra acima de 40000. (Atingiu a meta)\n"
      ],
      "execution_count": null,
      "outputs": []
    },
    {
      "cell_type": "code",
      "source": [
        "nome = \"Daniel\"\n",
        "idade = 28\n",
        "\n",
        "#Imprimir: Meu nome é Daniel e tenho 28 anos. Faça no Python\n"
      ],
      "metadata": {
        "id": "eJ8qYROTaGiA"
      },
      "execution_count": null,
      "outputs": []
    },
    {
      "cell_type": "code",
      "metadata": {
        "id": "wl3ZUnJ0s0Rd",
        "colab": {
          "base_uri": "https://localhost:8080/"
        },
        "outputId": "621c538e-769a-44ff-8c07-d3ee2734f59d"
      },
      "source": [
        "idades = [18, 22, 15, 50]\n",
        "type(idades)\n",
        "\n",
        "#Utilize um loop for para imprimir todas as idades acima\n",
        "\n"
      ],
      "execution_count": null,
      "outputs": [
        {
          "output_type": "execute_result",
          "data": {
            "text/plain": [
              "105"
            ]
          },
          "metadata": {},
          "execution_count": 1
        }
      ]
    },
    {
      "cell_type": "code",
      "source": [
        "#Utilize a função soma para calcular a soma das idades"
      ],
      "metadata": {
        "id": "xT937ijla-HM"
      },
      "execution_count": null,
      "outputs": []
    },
    {
      "cell_type": "code",
      "source": [
        "#Qual a idade do primeiro elemento"
      ],
      "metadata": {
        "id": "RrX8aEF6dUBL"
      },
      "execution_count": null,
      "outputs": []
    },
    {
      "cell_type": "code",
      "metadata": {
        "id": "f-BXWd7vtEH-"
      },
      "source": [
        "idades = [18, 22, 15, 50]\n",
        "#         0   1   2   3\n",
        "#         0  -3  -2  -1"
      ],
      "execution_count": null,
      "outputs": []
    },
    {
      "cell_type": "code",
      "metadata": {
        "id": "TnvEOFuLtQND",
        "colab": {
          "base_uri": "https://localhost:8080/",
          "height": 34
        },
        "outputId": "1a270fdd-5d6f-4e2d-9496-97f828245e4f"
      },
      "source": [
        "idades[0:3]"
      ],
      "execution_count": null,
      "outputs": [
        {
          "output_type": "execute_result",
          "data": {
            "text/plain": [
              "[18, 22, 15]"
            ]
          },
          "metadata": {
            "tags": []
          },
          "execution_count": 116
        }
      ]
    },
    {
      "cell_type": "code",
      "metadata": {
        "id": "8T8wJ28tzQpq",
        "colab": {
          "base_uri": "https://localhost:8080/",
          "height": 34
        },
        "outputId": "38e5b165-5223-4211-c25a-027e31624ae3"
      },
      "source": [
        "idade = 18\n",
        "idade >= 18"
      ],
      "execution_count": null,
      "outputs": [
        {
          "output_type": "execute_result",
          "data": {
            "text/plain": [
              "True"
            ]
          },
          "metadata": {
            "tags": []
          },
          "execution_count": 128
        }
      ]
    },
    {
      "cell_type": "code",
      "source": [],
      "metadata": {
        "id": "F4iJAUIOeMAX"
      },
      "execution_count": null,
      "outputs": []
    },
    {
      "cell_type": "code",
      "metadata": {
        "id": "5TrL0hmkzjhF"
      },
      "source": [
        "idades = [20, 14, 40]\n",
        "\n",
        "#Calcular uma função que determina a média das idades\n"
      ],
      "execution_count": null,
      "outputs": []
    },
    {
      "cell_type": "code",
      "source": [],
      "metadata": {
        "id": "q0_w2ME7e3lc"
      },
      "execution_count": null,
      "outputs": []
    }
  ]
}