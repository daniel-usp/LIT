{
  "cells": [
    {
      "cell_type": "markdown",
      "metadata": {
        "id": "view-in-github",
        "colab_type": "text"
      },
      "source": [
        "<a href=\"https://colab.research.google.com/github/daniel-usp/LIT/blob/master/Projeto_Pandas_Gabarito.ipynb\" target=\"_parent\"><img src=\"https://colab.research.google.com/assets/colab-badge.svg\" alt=\"Open In Colab\"/></a>"
      ]
    },
    {
      "cell_type": "markdown",
      "metadata": {
        "id": "qR8kJaOXNP3O"
      },
      "source": [
        "# Exercício - Mini Projeto de Análise de Dados\n",
        "\n",
        "Vamos fazer um exercício completo de pandas para um miniprojeto de análise de dados.\n",
        "\n",
        "Esse exercício vai obrigar a gente a usar boa parte dos conhecimento de pandas e até de outros módulos que já aprendemos ao longo do curso.\n",
        "\n",
        "### O que temos?\n",
        "\n",
        "Temos os dados de 2019 de uma empresa de prestação de serviços.\n",
        "\n",
        "- CadastroFuncionarios\n",
        "- CadastroClientes\n",
        "- BaseServiçosPrestados\n",
        "\n",
        "Obs1: Para ler arquivos csv, temos o read_csv<br>\n",
        "Obs2: Para ler arquivos xlsx (arquivos em excel normais, que não são padrão csv), temos o read_excel\n",
        "\n",
        "### O que queremos saber/fazer?\n",
        "\n",
        "1. Valor Total da Folha Salarial -> Qual foi o gasto total com salários de funcionários pela empresa? <br>\n",
        "    Sugestão: calcule o salário total de cada funcionário, salário + benefícios + impostos, depois some todos os salários\n",
        "\n",
        "\n",
        "2. Qual foi o faturamento da empresa?<br>\n",
        "    Sugestão: calcule o faturamento total de cada serviço e depois some o faturamento de todos\n",
        "\n",
        "\n",
        "3. Qual o % de funcionários que já fechou algum contrato?<br>\n",
        "    Sugestão: na base de serviços temos o funcionário que fechou cada serviço. Mas nem todos os funcionários que a empresa tem já fecharam algum serviço.<br>\n",
        "    . Na base de funcionários temos uma lista com todos os funcionários<br>\n",
        "    . Queremos calcular Qtde_Funcionarios_Fecharam_Serviço / Qtde_Funcionários_Totais<br>\n",
        "    . Para calcular a qtde de funcionários que fecharam algum serviço, use a base de serviços e conte quantos funcionários tem ali. Mas lembre-se, cada funcionário só pode ser contado uma única vez.<br><br>\n",
        "    Dica: se você aplicar o método .unique() em uma variável que é apenas 1 coluna de um dataframe, ele vai excluir todos os valores duplicados daquela coluna.<br>\n",
        "    Ex: unicos_colunaA = dataframe['colunaA'].unique() te dá como resposta uma lista com todos os itens da colunaA aparecendo uma única vez. Todos os valores repetidos da colunaA são excluidos da variável unicos_colunaA\n",
        "\n",
        "\n",
        "4. Calcule o total de contratos que cada área da empresa já fechou\n",
        "\n",
        "\n",
        "5. Calcule o total de funcionários por área\n",
        "\n",
        "\n",
        "6. Qual o ticket médio mensal (faturamento médio mensal) dos contratos?<br>\n",
        "    Dica: .mean() calcula a média -> exemplo: media_colunaA = dataframe['colunaA'].mean()\n",
        "\n",
        "Obs: Lembrando as opções mais usuais de encoding:<br>\n",
        "encoding='latin1', encoding='ISO-8859-1', encoding='utf-8' ou então encoding='cp1252'\n",
        "\n",
        "Observação Importante: Se o seu código der um erro na hora de importar os arquivos:<br>\n",
        "- CadastroClientes.csv\n",
        "- CadastroFuncionarios.csv\n",
        "\n",
        "Use separador \";\" (ponto e vírgula) para resolver e inclua o parâmetro decimal ',' para o pandas identificar os números corretamente"
      ]
    },
    {
      "cell_type": "markdown",
      "metadata": {
        "id": "Ue3nwyqLNP3R"
      },
      "source": [
        "### Importação de Módulos e Arquivos"
      ]
    },
    {
      "cell_type": "code",
      "execution_count": null,
      "metadata": {
        "id": "K9ZJjppANP3S",
        "outputId": "52a86564-0486-4617-adc8-af009a947b11"
      },
      "outputs": [
        {
          "data": {
            "text/html": [
              "<div>\n",
              "<style scoped>\n",
              "    .dataframe tbody tr th:only-of-type {\n",
              "        vertical-align: middle;\n",
              "    }\n",
              "\n",
              "    .dataframe tbody tr th {\n",
              "        vertical-align: top;\n",
              "    }\n",
              "\n",
              "    .dataframe thead th {\n",
              "        text-align: right;\n",
              "    }\n",
              "</style>\n",
              "<table border=\"1\" class=\"dataframe\">\n",
              "  <thead>\n",
              "    <tr style=\"text-align: right;\">\n",
              "      <th></th>\n",
              "      <th>ID Funcionário</th>\n",
              "      <th>Nome Completo</th>\n",
              "      <th>Salario Base</th>\n",
              "      <th>Impostos</th>\n",
              "      <th>Beneficios</th>\n",
              "      <th>VT</th>\n",
              "      <th>VR</th>\n",
              "      <th>Area</th>\n",
              "    </tr>\n",
              "  </thead>\n",
              "  <tbody>\n",
              "    <tr>\n",
              "      <th>0</th>\n",
              "      <td>1</td>\n",
              "      <td>Gabriel Mesquita</td>\n",
              "      <td>21910</td>\n",
              "      <td>10955.0</td>\n",
              "      <td>4382.0</td>\n",
              "      <td>242</td>\n",
              "      <td>719.04</td>\n",
              "      <td>Operações</td>\n",
              "    </tr>\n",
              "    <tr>\n",
              "      <th>1</th>\n",
              "      <td>2</td>\n",
              "      <td>João Haddad</td>\n",
              "      <td>5404</td>\n",
              "      <td>2702.0</td>\n",
              "      <td>1080.8</td>\n",
              "      <td>154</td>\n",
              "      <td>574.56</td>\n",
              "      <td>Logística</td>\n",
              "    </tr>\n",
              "    <tr>\n",
              "      <th>2</th>\n",
              "      <td>3</td>\n",
              "      <td>Amanda Marques Ribeiro</td>\n",
              "      <td>16066</td>\n",
              "      <td>8033.0</td>\n",
              "      <td>3213.2</td>\n",
              "      <td>154</td>\n",
              "      <td>729.12</td>\n",
              "      <td>Administrativo</td>\n",
              "    </tr>\n",
              "    <tr>\n",
              "      <th>3</th>\n",
              "      <td>4</td>\n",
              "      <td>Guilherme Nunez</td>\n",
              "      <td>21305</td>\n",
              "      <td>10652.5</td>\n",
              "      <td>4261.0</td>\n",
              "      <td>220</td>\n",
              "      <td>524.16</td>\n",
              "      <td>Administrativo</td>\n",
              "    </tr>\n",
              "    <tr>\n",
              "      <th>4</th>\n",
              "      <td>5</td>\n",
              "      <td>Adelino Gomes</td>\n",
              "      <td>5098</td>\n",
              "      <td>2549.0</td>\n",
              "      <td>1019.6</td>\n",
              "      <td>176</td>\n",
              "      <td>725.76</td>\n",
              "      <td>Administrativo</td>\n",
              "    </tr>\n",
              "    <tr>\n",
              "      <th>...</th>\n",
              "      <td>...</td>\n",
              "      <td>...</td>\n",
              "      <td>...</td>\n",
              "      <td>...</td>\n",
              "      <td>...</td>\n",
              "      <td>...</td>\n",
              "      <td>...</td>\n",
              "      <td>...</td>\n",
              "    </tr>\n",
              "    <tr>\n",
              "      <th>109</th>\n",
              "      <td>143</td>\n",
              "      <td>Renan Scharnhorst Ott</td>\n",
              "      <td>10793</td>\n",
              "      <td>5396.5</td>\n",
              "      <td>2158.6</td>\n",
              "      <td>242</td>\n",
              "      <td>514.08</td>\n",
              "      <td>Logística</td>\n",
              "    </tr>\n",
              "    <tr>\n",
              "      <th>110</th>\n",
              "      <td>144</td>\n",
              "      <td>Lucas Brum Pereira</td>\n",
              "      <td>4048</td>\n",
              "      <td>2024.0</td>\n",
              "      <td>809.6</td>\n",
              "      <td>198</td>\n",
              "      <td>796.32</td>\n",
              "      <td>Comercial</td>\n",
              "    </tr>\n",
              "    <tr>\n",
              "      <th>111</th>\n",
              "      <td>148</td>\n",
              "      <td>Caio Stellet</td>\n",
              "      <td>24596</td>\n",
              "      <td>12298.0</td>\n",
              "      <td>4919.2</td>\n",
              "      <td>242</td>\n",
              "      <td>561.12</td>\n",
              "      <td>Administrativo</td>\n",
              "    </tr>\n",
              "    <tr>\n",
              "      <th>112</th>\n",
              "      <td>149</td>\n",
              "      <td>Fernanda Rocha</td>\n",
              "      <td>5078</td>\n",
              "      <td>2539.0</td>\n",
              "      <td>1015.6</td>\n",
              "      <td>308</td>\n",
              "      <td>665.28</td>\n",
              "      <td>Comercial</td>\n",
              "    </tr>\n",
              "    <tr>\n",
              "      <th>113</th>\n",
              "      <td>150</td>\n",
              "      <td>Eduardo Brum</td>\n",
              "      <td>15939</td>\n",
              "      <td>7969.5</td>\n",
              "      <td>3187.8</td>\n",
              "      <td>220</td>\n",
              "      <td>769.44</td>\n",
              "      <td>Comercial</td>\n",
              "    </tr>\n",
              "  </tbody>\n",
              "</table>\n",
              "<p>114 rows × 8 columns</p>\n",
              "</div>"
            ],
            "text/plain": [
              "     ID Funcionário           Nome Completo  Salario Base  Impostos  \\\n",
              "0                 1        Gabriel Mesquita         21910   10955.0   \n",
              "1                 2             João Haddad          5404    2702.0   \n",
              "2                 3  Amanda Marques Ribeiro         16066    8033.0   \n",
              "3                 4         Guilherme Nunez         21305   10652.5   \n",
              "4                 5           Adelino Gomes          5098    2549.0   \n",
              "..              ...                     ...           ...       ...   \n",
              "109             143   Renan Scharnhorst Ott         10793    5396.5   \n",
              "110             144      Lucas Brum Pereira          4048    2024.0   \n",
              "111             148            Caio Stellet         24596   12298.0   \n",
              "112             149          Fernanda Rocha          5078    2539.0   \n",
              "113             150            Eduardo Brum         15939    7969.5   \n",
              "\n",
              "     Beneficios   VT      VR            Area  \n",
              "0        4382.0  242  719.04       Operações  \n",
              "1        1080.8  154  574.56       Logística  \n",
              "2        3213.2  154  729.12  Administrativo  \n",
              "3        4261.0  220  524.16  Administrativo  \n",
              "4        1019.6  176  725.76  Administrativo  \n",
              "..          ...  ...     ...             ...  \n",
              "109      2158.6  242  514.08       Logística  \n",
              "110       809.6  198  796.32       Comercial  \n",
              "111      4919.2  242  561.12  Administrativo  \n",
              "112      1015.6  308  665.28       Comercial  \n",
              "113      3187.8  220  769.44       Comercial  \n",
              "\n",
              "[114 rows x 8 columns]"
            ]
          },
          "metadata": {},
          "output_type": "display_data"
        },
        {
          "data": {
            "text/html": [
              "<div>\n",
              "<style scoped>\n",
              "    .dataframe tbody tr th:only-of-type {\n",
              "        vertical-align: middle;\n",
              "    }\n",
              "\n",
              "    .dataframe tbody tr th {\n",
              "        vertical-align: top;\n",
              "    }\n",
              "\n",
              "    .dataframe thead th {\n",
              "        text-align: right;\n",
              "    }\n",
              "</style>\n",
              "<table border=\"1\" class=\"dataframe\">\n",
              "  <thead>\n",
              "    <tr style=\"text-align: right;\">\n",
              "      <th></th>\n",
              "      <th>ID Cliente</th>\n",
              "      <th>Cliente</th>\n",
              "      <th>Valor Contrato Mensal</th>\n",
              "    </tr>\n",
              "  </thead>\n",
              "  <tbody>\n",
              "    <tr>\n",
              "      <th>0</th>\n",
              "      <td>1</td>\n",
              "      <td>Teixeira Gonçalves</td>\n",
              "      <td>540</td>\n",
              "    </tr>\n",
              "    <tr>\n",
              "      <th>1</th>\n",
              "      <td>2</td>\n",
              "      <td>Souza Santos</td>\n",
              "      <td>1260</td>\n",
              "    </tr>\n",
              "    <tr>\n",
              "      <th>2</th>\n",
              "      <td>3</td>\n",
              "      <td>Emídio Alves</td>\n",
              "      <td>3195</td>\n",
              "    </tr>\n",
              "    <tr>\n",
              "      <th>3</th>\n",
              "      <td>4</td>\n",
              "      <td>Santos Costa</td>\n",
              "      <td>2520</td>\n",
              "    </tr>\n",
              "    <tr>\n",
              "      <th>4</th>\n",
              "      <td>5</td>\n",
              "      <td>Do Monteiro</td>\n",
              "      <td>3510</td>\n",
              "    </tr>\n",
              "    <tr>\n",
              "      <th>...</th>\n",
              "      <td>...</td>\n",
              "      <td>...</td>\n",
              "      <td>...</td>\n",
              "    </tr>\n",
              "    <tr>\n",
              "      <th>315</th>\n",
              "      <td>316</td>\n",
              "      <td>Manoel Costa</td>\n",
              "      <td>3690</td>\n",
              "    </tr>\n",
              "    <tr>\n",
              "      <th>316</th>\n",
              "      <td>317</td>\n",
              "      <td>Gomes Machado</td>\n",
              "      <td>2385</td>\n",
              "    </tr>\n",
              "    <tr>\n",
              "      <th>317</th>\n",
              "      <td>318</td>\n",
              "      <td>Alkindar Cardozo</td>\n",
              "      <td>3510</td>\n",
              "    </tr>\n",
              "    <tr>\n",
              "      <th>318</th>\n",
              "      <td>319</td>\n",
              "      <td>Pereira Fazenda</td>\n",
              "      <td>4185</td>\n",
              "    </tr>\n",
              "    <tr>\n",
              "      <th>319</th>\n",
              "      <td>320</td>\n",
              "      <td>Americo Damasceno</td>\n",
              "      <td>2430</td>\n",
              "    </tr>\n",
              "  </tbody>\n",
              "</table>\n",
              "<p>320 rows × 3 columns</p>\n",
              "</div>"
            ],
            "text/plain": [
              "     ID Cliente             Cliente  Valor Contrato Mensal\n",
              "0             1  Teixeira Gonçalves                    540\n",
              "1             2        Souza Santos                   1260\n",
              "2             3        Emídio Alves                   3195\n",
              "3             4        Santos Costa                   2520\n",
              "4             5         Do Monteiro                   3510\n",
              "..          ...                 ...                    ...\n",
              "315         316        Manoel Costa                   3690\n",
              "316         317       Gomes Machado                   2385\n",
              "317         318    Alkindar Cardozo                   3510\n",
              "318         319     Pereira Fazenda                   4185\n",
              "319         320   Americo Damasceno                   2430\n",
              "\n",
              "[320 rows x 3 columns]"
            ]
          },
          "metadata": {},
          "output_type": "display_data"
        },
        {
          "data": {
            "text/html": [
              "<div>\n",
              "<style scoped>\n",
              "    .dataframe tbody tr th:only-of-type {\n",
              "        vertical-align: middle;\n",
              "    }\n",
              "\n",
              "    .dataframe tbody tr th {\n",
              "        vertical-align: top;\n",
              "    }\n",
              "\n",
              "    .dataframe thead th {\n",
              "        text-align: right;\n",
              "    }\n",
              "</style>\n",
              "<table border=\"1\" class=\"dataframe\">\n",
              "  <thead>\n",
              "    <tr style=\"text-align: right;\">\n",
              "      <th></th>\n",
              "      <th>Codigo do Servico</th>\n",
              "      <th>ID Funcionário</th>\n",
              "      <th>ID Cliente</th>\n",
              "      <th>Tempo Total de Contrato (Meses)</th>\n",
              "    </tr>\n",
              "  </thead>\n",
              "  <tbody>\n",
              "    <tr>\n",
              "      <th>0</th>\n",
              "      <td>OS0001</td>\n",
              "      <td>67</td>\n",
              "      <td>1</td>\n",
              "      <td>14</td>\n",
              "    </tr>\n",
              "    <tr>\n",
              "      <th>1</th>\n",
              "      <td>OS0002</td>\n",
              "      <td>17</td>\n",
              "      <td>2</td>\n",
              "      <td>12</td>\n",
              "    </tr>\n",
              "    <tr>\n",
              "      <th>2</th>\n",
              "      <td>OS0003</td>\n",
              "      <td>116</td>\n",
              "      <td>4</td>\n",
              "      <td>14</td>\n",
              "    </tr>\n",
              "    <tr>\n",
              "      <th>3</th>\n",
              "      <td>OS0004</td>\n",
              "      <td>37</td>\n",
              "      <td>5</td>\n",
              "      <td>8</td>\n",
              "    </tr>\n",
              "    <tr>\n",
              "      <th>4</th>\n",
              "      <td>OS0005</td>\n",
              "      <td>130</td>\n",
              "      <td>6</td>\n",
              "      <td>8</td>\n",
              "    </tr>\n",
              "    <tr>\n",
              "      <th>...</th>\n",
              "      <td>...</td>\n",
              "      <td>...</td>\n",
              "      <td>...</td>\n",
              "      <td>...</td>\n",
              "    </tr>\n",
              "    <tr>\n",
              "      <th>232</th>\n",
              "      <td>OS0233</td>\n",
              "      <td>111</td>\n",
              "      <td>315</td>\n",
              "      <td>4</td>\n",
              "    </tr>\n",
              "    <tr>\n",
              "      <th>233</th>\n",
              "      <td>OS0234</td>\n",
              "      <td>124</td>\n",
              "      <td>316</td>\n",
              "      <td>8</td>\n",
              "    </tr>\n",
              "    <tr>\n",
              "      <th>234</th>\n",
              "      <td>OS0235</td>\n",
              "      <td>72</td>\n",
              "      <td>317</td>\n",
              "      <td>6</td>\n",
              "    </tr>\n",
              "    <tr>\n",
              "      <th>235</th>\n",
              "      <td>OS0236</td>\n",
              "      <td>90</td>\n",
              "      <td>319</td>\n",
              "      <td>14</td>\n",
              "    </tr>\n",
              "    <tr>\n",
              "      <th>236</th>\n",
              "      <td>OS0237</td>\n",
              "      <td>22</td>\n",
              "      <td>320</td>\n",
              "      <td>12</td>\n",
              "    </tr>\n",
              "  </tbody>\n",
              "</table>\n",
              "<p>237 rows × 4 columns</p>\n",
              "</div>"
            ],
            "text/plain": [
              "    Codigo do Servico  ID Funcionário  ID Cliente  \\\n",
              "0              OS0001              67           1   \n",
              "1              OS0002              17           2   \n",
              "2              OS0003             116           4   \n",
              "3              OS0004              37           5   \n",
              "4              OS0005             130           6   \n",
              "..                ...             ...         ...   \n",
              "232            OS0233             111         315   \n",
              "233            OS0234             124         316   \n",
              "234            OS0235              72         317   \n",
              "235            OS0236              90         319   \n",
              "236            OS0237              22         320   \n",
              "\n",
              "     Tempo Total de Contrato (Meses)  \n",
              "0                                 14  \n",
              "1                                 12  \n",
              "2                                 14  \n",
              "3                                  8  \n",
              "4                                  8  \n",
              "..                               ...  \n",
              "232                                4  \n",
              "233                                8  \n",
              "234                                6  \n",
              "235                               14  \n",
              "236                               12  \n",
              "\n",
              "[237 rows x 4 columns]"
            ]
          },
          "metadata": {},
          "output_type": "display_data"
        }
      ],
      "source": [
        "import pandas as pd\n",
        "\n",
        "funcionarios_df = pd.read_csv('CadastroFuncionarios.csv', sep=';', decimal=',')\n",
        "clientes_df = pd.read_csv('CadastroClientes.csv', sep=';', decimal=',')\n",
        "servicos_df = pd.read_excel('BaseServiçosPrestados.xlsx')\n",
        "\n",
        "#retirar colunas Estado Civil e Cargo da tabela de funcionarios\n",
        "funcionarios_df = funcionarios_df.drop(['Estado Civil', 'Cargo'], axis=1)\n",
        "\n",
        "display(funcionarios_df)\n",
        "display(clientes_df)\n",
        "display(servicos_df)"
      ]
    },
    {
      "cell_type": "markdown",
      "metadata": {
        "id": "dFSzMkruNP3T"
      },
      "source": [
        "### 1 - Folha Salarial"
      ]
    },
    {
      "cell_type": "code",
      "execution_count": null,
      "metadata": {
        "id": "C4s598spNP3T",
        "outputId": "5f8cc169-0e2d-40e4-c85a-819276e5572d"
      },
      "outputs": [
        {
          "name": "stdout",
          "output_type": "stream",
          "text": [
            "Total da Folha Salarial Mensal é de R$2,717,493.22\n"
          ]
        }
      ],
      "source": [
        "funcionarios_df['Salario Total'] = funcionarios_df['Salario Base'] + funcionarios_df['Impostos'] + funcionarios_df['Beneficios'] + funcionarios_df['VT'] + funcionarios_df['VR']\n",
        "print('Total da Folha Salarial Mensal é de R${:,}'.format(funcionarios_df['Salario Total'].sum()))"
      ]
    },
    {
      "cell_type": "markdown",
      "metadata": {
        "id": "fBqsDtf6NP3T"
      },
      "source": [
        "### 2 - Faturamento da Empresa"
      ]
    },
    {
      "cell_type": "code",
      "execution_count": null,
      "metadata": {
        "id": "mxqkPd9-NP3U",
        "outputId": "82425f89-5af0-4e86-f4f1-6163308a4f25"
      },
      "outputs": [
        {
          "name": "stdout",
          "output_type": "stream",
          "text": [
            "Faturamento Total: R$5,519,160\n"
          ]
        }
      ],
      "source": [
        "faturamentos_df = servicos_df[['ID Cliente', 'Tempo Total de Contrato (Meses)']].merge(clientes_df[['ID Cliente' ,'Valor Contrato Mensal']], on='ID Cliente')\n",
        "faturamentos_df['Faturamento Total'] = faturamentos_df['Tempo Total de Contrato (Meses)'] * faturamentos_df['Valor Contrato Mensal']\n",
        "print('Faturamento Total: R${:,}'.format(sum(faturamentos_df['Faturamento Total'])))"
      ]
    },
    {
      "cell_type": "markdown",
      "metadata": {
        "id": "BBFnun8lNP3U"
      },
      "source": [
        "### 3 - % Funcionários Fecharam Contrato"
      ]
    },
    {
      "cell_type": "code",
      "execution_count": null,
      "metadata": {
        "id": "akdg4FVQNP3U",
        "outputId": "edee2dd2-ce3e-4362-cbac-2ebedbd11314"
      },
      "outputs": [
        {
          "name": "stdout",
          "output_type": "stream",
          "text": [
            "Percentual Funcionários Fecharam Contrato: 86.84%\n"
          ]
        }
      ],
      "source": [
        "qtde_funcionario_fecharamcontrato = len(servicos_df['ID Funcionário'].unique())\n",
        "qtde_funcionario_total = len(funcionarios_df['ID Funcionário'])\n",
        "print('Percentual Funcionários Fecharam Contrato: {:.2%}'.format(qtde_funcionario_fecharamcontrato / qtde_funcionario_total))"
      ]
    },
    {
      "cell_type": "markdown",
      "metadata": {
        "id": "Nlcu8I1hNP3V"
      },
      "source": [
        "### 4 - Qtde Contratos por Área"
      ]
    },
    {
      "cell_type": "code",
      "execution_count": null,
      "metadata": {
        "id": "HEQVDBgrNP3V",
        "outputId": "e23fe320-df54-4249-c945-642c31bfdd85"
      },
      "outputs": [
        {
          "name": "stdout",
          "output_type": "stream",
          "text": [
            "Administrativo    63\n",
            "Operações         48\n",
            "Comercial         44\n",
            "Financeiro        42\n",
            "Logística         40\n",
            "Name: Area, dtype: int64\n"
          ]
        },
        {
          "data": {
            "text/plain": [
              "<matplotlib.axes._subplots.AxesSubplot at 0x2969207b9a0>"
            ]
          },
          "execution_count": 16,
          "metadata": {},
          "output_type": "execute_result"
        },
        {
          "data": {
            "image/png": "[encoded data removed]",
            "text/plain": [
              "<Figure size 432x288 with 1 Axes>"
            ]
          },
          "metadata": {
            "needs_background": "light"
          },
          "output_type": "display_data"
        }
      ],
      "source": [
        "contratos_area_df = servicos_df[['ID Funcionário']].merge(funcionarios_df[['ID Funcionário', 'Area']], on='ID Funcionário')\n",
        "contratos_area_qtde = contratos_area_df['Area'].value_counts()\n",
        "print(contratos_area_qtde)\n",
        "contratos_area_qtde.plot(kind='bar')"
      ]
    },
    {
      "cell_type": "markdown",
      "metadata": {
        "id": "Uzkq2nz7NP3V"
      },
      "source": [
        "### 5 - Funcionários por Área"
      ]
    },
    {
      "cell_type": "code",
      "execution_count": null,
      "metadata": {
        "id": "cdWDHtwcNP3W",
        "outputId": "9e7b47df-5439-437e-cea9-f4f9f32cb3c2"
      },
      "outputs": [
        {
          "name": "stdout",
          "output_type": "stream",
          "text": [
            "Comercial         26\n",
            "Administrativo    26\n",
            "Operações         23\n",
            "Logística         21\n",
            "Financeiro        18\n",
            "Name: Area, dtype: int64\n"
          ]
        },
        {
          "data": {
            "text/plain": [
              "<matplotlib.axes._subplots.AxesSubplot at 0x296918ed250>"
            ]
          },
          "execution_count": 13,
          "metadata": {},
          "output_type": "execute_result"
        },
        {
          "data": {
            "image/png": "[encoded data removed]",
            "text/plain": [
              "<Figure size 432x288 with 1 Axes>"
            ]
          },
          "metadata": {
            "needs_background": "light"
          },
          "output_type": "display_data"
        }
      ],
      "source": [
        "funcionarios_area = funcionarios_df['Area'].value_counts()\n",
        "print(funcionarios_area)\n",
        "funcionarios_area.plot(kind='bar')"
      ]
    },
    {
      "cell_type": "markdown",
      "metadata": {
        "id": "LUHK9wQzNP3W"
      },
      "source": [
        "### 6 - Ticket Médio Mensal"
      ]
    },
    {
      "cell_type": "code",
      "execution_count": null,
      "metadata": {
        "id": "LtYh8kPQNP3W",
        "outputId": "d923a6f2-5789-49e0-c373-21a0b5e475dc"
      },
      "outputs": [
        {
          "name": "stdout",
          "output_type": "stream",
          "text": [
            "Ticket Médio Mensal: R$2,502.56\n"
          ]
        }
      ],
      "source": [
        "ticket_medio = clientes_df['Valor Contrato Mensal'].mean()\n",
        "print('Ticket Médio Mensal: R${:,.2f}'.format(ticket_medio))"
      ]
    }
  ],
  "metadata": {
    "kernelspec": {
      "display_name": "Python 3",
      "language": "python",
      "name": "python3"
    },
    "language_info": {
      "codemirror_mode": {
        "name": "ipython",
        "version": 3
      },
      "file_extension": ".py",
      "mimetype": "text/x-python",
      "name": "python",
      "nbconvert_exporter": "python",
      "pygments_lexer": "ipython3",
      "version": "3.8.3"
    },
    "colab": {
      "provenance": [],
      "include_colab_link": true
    }
  },
  "nbformat": 4,
  "nbformat_minor": 0
}